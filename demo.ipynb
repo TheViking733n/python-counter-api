{
 "cells": [
  {
   "cell_type": "code",
   "execution_count": 1,
   "id": "24a5ccb1",
   "metadata": {},
   "outputs": [],
   "source": [
    "from python_counter_api import CounterApi"
   ]
  },
  {
   "cell_type": "code",
   "execution_count": 2,
   "id": "293ebb4b",
   "metadata": {},
   "outputs": [],
   "source": [
    "myvar = CounterApi(\"myvar\", \"mysite.com\")      # Declaring the variable"
   ]
  },
  {
   "cell_type": "code",
   "execution_count": 3,
   "id": "039026ad",
   "metadata": {},
   "outputs": [
    {
     "name": "stdout",
     "output_type": "stream",
     "text": [
      "myvar: None\n"
     ]
    }
   ],
   "source": [
    "print(myvar)            # None value means that this variable has not been used"
   ]
  },
  {
   "cell_type": "code",
   "execution_count": 4,
   "id": "45d8f12c",
   "metadata": {},
   "outputs": [
    {
     "data": {
      "text/plain": [
       "0"
      ]
     },
     "execution_count": 4,
     "metadata": {},
     "output_type": "execute_result"
    }
   ],
   "source": [
    "myvar.create()          # Creating the variable in the server database, and initialising with zero"
   ]
  },
  {
   "cell_type": "code",
   "execution_count": 5,
   "id": "90ca5d31",
   "metadata": {},
   "outputs": [
    {
     "data": {
      "text/plain": [
       "1"
      ]
     },
     "execution_count": 5,
     "metadata": {},
     "output_type": "execute_result"
    }
   ],
   "source": [
    "myvar.hit()             # Incrementing the value by 1 and return new value"
   ]
  },
  {
   "cell_type": "code",
   "execution_count": 6,
   "id": "20c6df4b",
   "metadata": {},
   "outputs": [
    {
     "data": {
      "text/plain": [
       "6"
      ]
     },
     "execution_count": 6,
     "metadata": {},
     "output_type": "execute_result"
    }
   ],
   "source": [
    "myvar.increment(5)      # Incrementing the value by 5  and return new value"
   ]
  },
  {
   "cell_type": "code",
   "execution_count": 7,
   "id": "c19bb0ec",
   "metadata": {},
   "outputs": [
    {
     "data": {
      "text/plain": [
       "6"
      ]
     },
     "execution_count": 7,
     "metadata": {},
     "output_type": "execute_result"
    }
   ],
   "source": [
    "myvar.reset(-2)         # Resetting the value of variable to -2, this functions returns the previous value"
   ]
  },
  {
   "cell_type": "code",
   "execution_count": 8,
   "id": "b8eec9de",
   "metadata": {},
   "outputs": [
    {
     "data": {
      "text/plain": [
       "-2"
      ]
     },
     "execution_count": 8,
     "metadata": {},
     "output_type": "execute_result"
    }
   ],
   "source": [
    "myvar.value()           # Fetching current value"
   ]
  },
  {
   "cell_type": "code",
   "execution_count": 9,
   "id": "8da42674",
   "metadata": {},
   "outputs": [
    {
     "name": "stdout",
     "output_type": "stream",
     "text": [
      "myvar: -2\n"
     ]
    }
   ],
   "source": [
    "print(myvar)            # Same as myvar.value(), instead of returning it prints the value"
   ]
  },
  {
   "cell_type": "code",
   "execution_count": null,
   "id": "a56087c7",
   "metadata": {},
   "outputs": [],
   "source": []
  }
 ],
 "metadata": {
  "kernelspec": {
   "display_name": "Python 3 (ipykernel)",
   "language": "python",
   "name": "python3"
  },
  "language_info": {
   "codemirror_mode": {
    "name": "ipython",
    "version": 3
   },
   "file_extension": ".py",
   "mimetype": "text/x-python",
   "name": "python",
   "nbconvert_exporter": "python",
   "pygments_lexer": "ipython3",
   "version": "3.9.0"
  }
 },
 "nbformat": 4,
 "nbformat_minor": 5
}
